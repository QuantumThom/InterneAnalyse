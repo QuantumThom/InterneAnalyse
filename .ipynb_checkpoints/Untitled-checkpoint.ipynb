{
 "cells": [
  {
   "cell_type": "code",
   "execution_count": null,
   "id": "ed3149e1-dfe4-49ff-92ba-851f6150e518",
   "metadata": {},
   "outputs": [
    {
     "name": "stdout",
     "output_type": "stream",
     "text": [
      "Requirement already satisfied: matplotlib in /home/ubuntu/.local/lib/python3.8/site-packages (3.7.5)\n",
      "Requirement already satisfied: importlib-resources>=3.2.0; python_version < \"3.10\" in /home/ubuntu/.local/lib/python3.8/site-packages (from matplotlib) (6.0.1)\n",
      "Requirement already satisfied: pillow>=6.2.0 in /home/ubuntu/.local/lib/python3.8/site-packages (from matplotlib) (10.2.0)\n",
      "Requirement already satisfied: fonttools>=4.22.0 in /home/ubuntu/.local/lib/python3.8/site-packages (from matplotlib) (4.49.0)\n",
      "Requirement already satisfied: cycler>=0.10 in /home/ubuntu/.local/lib/python3.8/site-packages (from matplotlib) (0.12.1)\n",
      "Requirement already satisfied: numpy<2,>=1.20 in /home/ubuntu/.local/lib/python3.8/site-packages (from matplotlib) (1.24.4)\n",
      "Requirement already satisfied: python-dateutil>=2.7 in /home/ubuntu/.local/lib/python3.8/site-packages (from matplotlib) (2.8.2)\n",
      "Requirement already satisfied: pyparsing>=2.3.1 in /home/ubuntu/.local/lib/python3.8/site-packages (from matplotlib) (3.1.2)\n",
      "Requirement already satisfied: kiwisolver>=1.0.1 in /home/ubuntu/.local/lib/python3.8/site-packages (from matplotlib) (1.4.5)\n",
      "Requirement already satisfied: packaging>=20.0 in /home/ubuntu/.local/lib/python3.8/site-packages (from matplotlib) (23.1)\n",
      "Requirement already satisfied: contourpy>=1.0.1 in /home/ubuntu/.local/lib/python3.8/site-packages (from matplotlib) (1.1.1)\n",
      "Requirement already satisfied: zipp>=3.1.0; python_version < \"3.10\" in /home/ubuntu/.local/lib/python3.8/site-packages (from importlib-resources>=3.2.0; python_version < \"3.10\"->matplotlib) (3.16.2)\n",
      "Requirement already satisfied: six>=1.5 in /usr/lib/python3/dist-packages (from python-dateutil>=2.7->matplotlib) (1.14.0)\n"
     ]
    }
   ],
   "source": [
    "%pip install matplotlib"
   ]
  },
  {
   "cell_type": "code",
   "execution_count": null,
   "id": "2cbeb4d1-cc7c-4867-85e7-455cd0830c7e",
   "metadata": {},
   "outputs": [],
   "source": [
    "import pandas as pd\n",
    "import numpy as np\n",
    "import pandas as pd\n",
    "import matplotlib.pyplot as plt\n",
    "from matplotlib.ticker import StrMethodFormatter\n",
    "pd.set_option(\"display.max_rows\", None)\n",
    "%pip install openpyxl"
   ]
  },
  {
   "cell_type": "code",
   "execution_count": null,
   "id": "5174b9ed-431d-468a-8389-b36e02e7bb08",
   "metadata": {},
   "outputs": [],
   "source": [
    "# INLEZEN BLUESPOT DATA\n",
    "\n",
    "df_bluespot = pd.read_excel(\"bluespot.xlsx\")\n",
    "df_bluespot.info()"
   ]
  },
  {
   "cell_type": "code",
   "execution_count": null,
   "id": "fdc48752-318a-4b9a-8e92-5eda0d8234b7",
   "metadata": {},
   "outputs": [],
   "source": [
    "# FILTEREN BLUESPOT KOLOMMMEN\n",
    "kolom_filter_bluespot = ['Bronregistratie', \n",
    "                         'Incidentsoort code', \n",
    "                         \"Incidentsoort\", \n",
    "                         \"Pleegstraatnaam\", \n",
    "                         \"Pleeghuisnummer met toev.\", \n",
    "                         \"Pleegplaats\", \n",
    "                         \"Begin-pleegdag v/d week\", \n",
    "                         \"Begin-pleegdagdeel\", \n",
    "                         \"Begin-pleegdatum/tijd\",\n",
    "                         \"Aangifte\",\n",
    "                         \"Verdachten\",\n",
    "                         \"Aanhoudingen\"]\n",
    "df_bluespot = df_bluespot[kolom_filter_bluespot]\n",
    "df_bluespot.info()"
   ]
  },
  {
   "cell_type": "code",
   "execution_count": null,
   "id": "3a3cc695-a078-4944-ae53-ca51182d723c",
   "metadata": {},
   "outputs": [],
   "source": [
    "# INLEZEN PERSONEN DATA\n",
    "\n",
    "df_personen = pd.read_excel(\"personen.xlsx\")\n",
    "df_personen.info()"
   ]
  },
  {
   "cell_type": "code",
   "execution_count": null,
   "id": "627a87e9-1516-4f12-854a-f12aa8fce60f",
   "metadata": {},
   "outputs": [],
   "source": [
    "# FILTEREN PERSONEN KOLOMMMEN\n",
    "kolom_filter_personen = ['Bronregistratie', \n",
    "                         'Geboortedatum', \n",
    "                         \"Geslacht\", \n",
    "                         \"Woonplaats\", \n",
    "                         \"Woonstraatnaam\", \n",
    "                         \"Woonhuisnummer met toev.\", \n",
    "                         \"Geboorteland\", \n",
    "                         \"Leeftijd t.t.v. incident\", \n",
    "                         \"Hoedanigheid\",\n",
    "                         \"BSN\"]\n",
    "df_personen = df_personen[kolom_filter_personen]\n",
    "df_personen.info()"
   ]
  },
  {
   "cell_type": "code",
   "execution_count": null,
   "id": "c1ab30c9-1773-482c-a3e4-7223049604eb",
   "metadata": {},
   "outputs": [],
   "source": [
    "# PER REGISTRATIE BIJ ELKAAR GROUPEREN\n",
    "\n",
    "df_personen = df_personen.groupby([\"Bronregistratie\"], as_index=False)[['Geboortedatum', \"Geslacht\", \"Woonplaats\", \"Woonstraatnaam\", \"Woonhuisnummer met toev.\", \"Geboorteland\", \"Leeftijd t.t.v. incident\", \"Hoedanigheid\"]].agg(lambda x: list(x))\n",
    "df_personen.head()"
   ]
  },
  {
   "cell_type": "code",
   "execution_count": null,
   "id": "c5a46498-19a7-482d-a902-86f1378bb7bd",
   "metadata": {},
   "outputs": [],
   "source": [
    "# BEREKEN HOEVEEL VERSCHIL ER ZIT TUSSEN TWEE DATAFRAMES\n",
    "\n",
    "aantal_uniek_in_personen = df_personen[\"Bronregistratie\"].nunique()\n",
    "aantal_matchende_registrateis = len(set(df_bluespot['Bronregistratie'])&set(df_personen['Bronregistratie']))\n",
    "\n",
    "verschil = aantal_uniek_in_personen - aantal_matchende_registrateis\n",
    "verschil"
   ]
  },
  {
   "cell_type": "code",
   "execution_count": null,
   "id": "a4020a40-9c80-4b44-8b82-49aeeb86f403",
   "metadata": {},
   "outputs": [],
   "source": [
    "# JOINEN VAN DE TWEE DFS, ONTBREKENDE ROWS VULLEN MET NULL\n",
    "\n",
    "df = pd.merge(df_bluespot, df_personen, on = \"Bronregistratie\", how=\"outer\", sort=True)\n",
    "df.info()"
   ]
  },
  {
   "cell_type": "code",
   "execution_count": null,
   "id": "56bc11b3-5c40-4620-b305-8124c102aad0",
   "metadata": {},
   "outputs": [],
   "source": [
    "# TOP 10 INCIDENTEN \n",
    "\n",
    "top10 = df[\"Incidentsoort\"].value_counts().nlargest(10)\n",
    "df_top10 = df[df[\"Incidentsoort\"].isin(top10.index)]\n",
    "\n",
    "print(top10)\n",
    "df_top10.info()"
   ]
  },
  {
   "cell_type": "code",
   "execution_count": null,
   "id": "02005054-7a03-4ed7-b2c9-7a700a14893c",
   "metadata": {},
   "outputs": [],
   "source": [
    "# STATISTIEKEN VERKRIJGEN OVER DE TOP 10 INCIDENTEN MBT LEEFTIJD EN GESLACHT\n",
    "\n",
    "x = df_top10[[\"Incidentsoort\", \"Geslacht\", \"Leeftijd t.t.v. incident\", \"Geboorteland\", \"Woonplaats\", \"Hoedanigheid\"]]\n",
    "x = x.dropna()\n",
    "\n",
    "# TODO: Verschil tussen top10 na het droppen van NaN\n",
    "\n",
    "def pad_lists(row):\n",
    "    max_len = max(len(row[\"Geslacht\"]), len(row[\"Leeftijd t.t.v. incident\"]))\n",
    "    row['Geslacht'] += [None] * (max_len - len(row['Geslacht']))\n",
    "    row['Leeftijd t.t.v. incident'] += [None] * (max_len - len(row['Leeftijd t.t.v. incident']))\n",
    "    return row\n",
    "\n",
    "y = x.apply(pad_lists, axis=1)\n",
    "y = y.explode([\"Geslacht\", \"Leeftijd t.t.v. incident\"])\n",
    "y.head()"
   ]
  },
  {
   "cell_type": "code",
   "execution_count": null,
   "id": "fd9ff69c-7fc1-434c-879a-0848210386cf",
   "metadata": {},
   "outputs": [],
   "source": [
    "# Aantal geboorteland (zijn dit unieke gevallen, of ook dezelfde mensen??)\n",
    "geboorteland = x.explode(\"Geboorteland\")\n",
    "geboorteland[\"Geboorteland\"].value_counts()"
   ]
  },
  {
   "cell_type": "code",
   "execution_count": null,
   "id": "cdf6d7d4-f566-4944-9d83-4b19def2469d",
   "metadata": {},
   "outputs": [],
   "source": [
    "# Aantal woonplaats (zijn dit unieke gevallen, of ook dezelfde mensen??)\n",
    "woonplaats = x.explode(\"Woonplaats\")\n",
    "woonplaats[\"Woonplaats\"].value_counts()"
   ]
  },
  {
   "cell_type": "code",
   "execution_count": null,
   "id": "e7e787f6-9a20-4c1c-b5e3-6c1b1d9ae57d",
   "metadata": {},
   "outputs": [],
   "source": [
    "y[\"Geslacht\"] = y[\"Geslacht\"].astype(\"category\")\n",
    "y[\"Incidentsoort\"] = y[\"Incidentsoort\"].astype(\"category\")\n",
    "y[\"Leeftijd t.t.v. incident\"] = y[\"Leeftijd t.t.v. incident\"].astype(\"int\")\n",
    "binwidth = 5\n",
    "bins = (range(0, 100 + binwidth, binwidth))\n",
    "# count, division = y.hist()\n",
    "pd.cut(y['Leeftijd t.t.v. incident'], bins).value_counts().sort_index()"
   ]
  },
  {
   "cell_type": "code",
   "execution_count": null,
   "id": "60a3def6-5a0d-4046-be95-e4eab051b27a",
   "metadata": {},
   "outputs": [],
   "source": [
    "y.hist(column='Leeftijd t.t.v. incident', bins=bins)"
   ]
  },
  {
   "cell_type": "code",
   "execution_count": null,
   "id": "df945a72-b9fa-4d66-8761-2fd369c42398",
   "metadata": {},
   "outputs": [],
   "source": [
    "df_top10[\"Gemiddelde Leeftijd\"] = df_top10[\"Leeftijd t.t.v. incident\"].explode([*df_top10.columns]).groupby(level=0).mean()\n",
    "df_top10.head()"
   ]
  },
  {
   "cell_type": "code",
   "execution_count": null,
   "id": "8159678f-bf64-44e7-9cd5-cce3ad7dbf24",
   "metadata": {},
   "outputs": [],
   "source": [
    "x = df_top10[\"Leeftijd t.t.v. incident\"]\n",
    "y = df_top10.groupby(\"Incidentsoort\")[[\"Leeftijd t.t.v. incident\", \"Geslacht\"]].mean()\n",
    "y"
   ]
  },
  {
   "cell_type": "code",
   "execution_count": null,
   "id": "9c20bd59-82d1-4d68-ba24-190979a2b7d1",
   "metadata": {},
   "outputs": [],
   "source": []
  }
 ],
 "metadata": {
  "kernelspec": {
   "display_name": ".env",
   "language": "python",
   "name": ".env"
  },
  "language_info": {
   "codemirror_mode": {
    "name": "ipython",
    "version": 3
   },
   "file_extension": ".py",
   "mimetype": "text/x-python",
   "name": "python",
   "nbconvert_exporter": "python",
   "pygments_lexer": "ipython3",
   "version": "3.8.10"
  }
 },
 "nbformat": 4,
 "nbformat_minor": 5
}
